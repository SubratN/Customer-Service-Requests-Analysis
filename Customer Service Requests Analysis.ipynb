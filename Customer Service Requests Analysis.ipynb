{
 "cells": [
  {
   "cell_type": "markdown",
   "id": "007455fb",
   "metadata": {},
   "source": [
    "# NYC 311 Service Request Analysis"
   ]
  },
  {
   "cell_type": "markdown",
   "id": "06b1b807",
   "metadata": {},
   "source": [
    "##### Import Required libraries."
   ]
  },
  {
   "cell_type": "code",
   "execution_count": 56,
   "id": "d64ee2eb",
   "metadata": {},
   "outputs": [],
   "source": [
    "import numpy as np\n",
    "import pandas as pd\n",
    "import matplotlib.pyplot as plt\n",
    "import seaborn as sns\n",
    "import warnings\n",
    "warnings.filterwarnings('ignore')\n",
    "%matplotlib inline"
   ]
  },
  {
   "cell_type": "markdown",
   "id": "72ef21a8",
   "metadata": {},
   "source": [
    "##### Import 311 NYC service request dataset into Dataframe"
   ]
  },
  {
   "cell_type": "code",
   "execution_count": 57,
   "id": "c0dc2c9e",
   "metadata": {},
   "outputs": [],
   "source": [
    "dataframe = pd.read_csv('311_Service_Requests_from_2010_to_Present.csv')"
   ]
  },
  {
   "cell_type": "code",
   "execution_count": 58,
   "id": "0b0ac394",
   "metadata": {},
   "outputs": [],
   "source": [
    "customer_df = dataframe.copy()"
   ]
  },
  {
   "cell_type": "code",
   "execution_count": 59,
   "id": "cf178d10",
   "metadata": {},
   "outputs": [
    {
     "data": {
      "text/html": [
       "<div>\n",
       "<style scoped>\n",
       "    .dataframe tbody tr th:only-of-type {\n",
       "        vertical-align: middle;\n",
       "    }\n",
       "\n",
       "    .dataframe tbody tr th {\n",
       "        vertical-align: top;\n",
       "    }\n",
       "\n",
       "    .dataframe thead th {\n",
       "        text-align: right;\n",
       "    }\n",
       "</style>\n",
       "<table border=\"1\" class=\"dataframe\">\n",
       "  <thead>\n",
       "    <tr style=\"text-align: right;\">\n",
       "      <th></th>\n",
       "      <th>Unique Key</th>\n",
       "      <th>Created Date</th>\n",
       "      <th>Closed Date</th>\n",
       "      <th>Agency</th>\n",
       "      <th>Agency Name</th>\n",
       "      <th>Complaint Type</th>\n",
       "      <th>Descriptor</th>\n",
       "      <th>Location Type</th>\n",
       "      <th>Incident Zip</th>\n",
       "      <th>Incident Address</th>\n",
       "      <th>...</th>\n",
       "      <th>Bridge Highway Name</th>\n",
       "      <th>Bridge Highway Direction</th>\n",
       "      <th>Road Ramp</th>\n",
       "      <th>Bridge Highway Segment</th>\n",
       "      <th>Garage Lot Name</th>\n",
       "      <th>Ferry Direction</th>\n",
       "      <th>Ferry Terminal Name</th>\n",
       "      <th>Latitude</th>\n",
       "      <th>Longitude</th>\n",
       "      <th>Location</th>\n",
       "    </tr>\n",
       "  </thead>\n",
       "  <tbody>\n",
       "    <tr>\n",
       "      <th>0</th>\n",
       "      <td>32310363</td>\n",
       "      <td>12/31/2015 11:59:45 PM</td>\n",
       "      <td>01-01-16 0:55</td>\n",
       "      <td>NYPD</td>\n",
       "      <td>New York City Police Department</td>\n",
       "      <td>Noise - Street/Sidewalk</td>\n",
       "      <td>Loud Music/Party</td>\n",
       "      <td>Street/Sidewalk</td>\n",
       "      <td>10034.0</td>\n",
       "      <td>71 VERMILYEA AVENUE</td>\n",
       "      <td>...</td>\n",
       "      <td>NaN</td>\n",
       "      <td>NaN</td>\n",
       "      <td>NaN</td>\n",
       "      <td>NaN</td>\n",
       "      <td>NaN</td>\n",
       "      <td>NaN</td>\n",
       "      <td>NaN</td>\n",
       "      <td>40.865682</td>\n",
       "      <td>-73.923501</td>\n",
       "      <td>(40.86568153633767, -73.92350095571744)</td>\n",
       "    </tr>\n",
       "    <tr>\n",
       "      <th>1</th>\n",
       "      <td>32309934</td>\n",
       "      <td>12/31/2015 11:59:44 PM</td>\n",
       "      <td>01-01-16 1:26</td>\n",
       "      <td>NYPD</td>\n",
       "      <td>New York City Police Department</td>\n",
       "      <td>Blocked Driveway</td>\n",
       "      <td>No Access</td>\n",
       "      <td>Street/Sidewalk</td>\n",
       "      <td>11105.0</td>\n",
       "      <td>27-07 23 AVENUE</td>\n",
       "      <td>...</td>\n",
       "      <td>NaN</td>\n",
       "      <td>NaN</td>\n",
       "      <td>NaN</td>\n",
       "      <td>NaN</td>\n",
       "      <td>NaN</td>\n",
       "      <td>NaN</td>\n",
       "      <td>NaN</td>\n",
       "      <td>40.775945</td>\n",
       "      <td>-73.915094</td>\n",
       "      <td>(40.775945312321085, -73.91509393898605)</td>\n",
       "    </tr>\n",
       "    <tr>\n",
       "      <th>2</th>\n",
       "      <td>32309159</td>\n",
       "      <td>12/31/2015 11:59:29 PM</td>\n",
       "      <td>01-01-16 4:51</td>\n",
       "      <td>NYPD</td>\n",
       "      <td>New York City Police Department</td>\n",
       "      <td>Blocked Driveway</td>\n",
       "      <td>No Access</td>\n",
       "      <td>Street/Sidewalk</td>\n",
       "      <td>10458.0</td>\n",
       "      <td>2897 VALENTINE AVENUE</td>\n",
       "      <td>...</td>\n",
       "      <td>NaN</td>\n",
       "      <td>NaN</td>\n",
       "      <td>NaN</td>\n",
       "      <td>NaN</td>\n",
       "      <td>NaN</td>\n",
       "      <td>NaN</td>\n",
       "      <td>NaN</td>\n",
       "      <td>40.870325</td>\n",
       "      <td>-73.888525</td>\n",
       "      <td>(40.870324522111424, -73.88852464418646)</td>\n",
       "    </tr>\n",
       "    <tr>\n",
       "      <th>3</th>\n",
       "      <td>32305098</td>\n",
       "      <td>12/31/2015 11:57:46 PM</td>\n",
       "      <td>01-01-16 7:43</td>\n",
       "      <td>NYPD</td>\n",
       "      <td>New York City Police Department</td>\n",
       "      <td>Illegal Parking</td>\n",
       "      <td>Commercial Overnight Parking</td>\n",
       "      <td>Street/Sidewalk</td>\n",
       "      <td>10461.0</td>\n",
       "      <td>2940 BAISLEY AVENUE</td>\n",
       "      <td>...</td>\n",
       "      <td>NaN</td>\n",
       "      <td>NaN</td>\n",
       "      <td>NaN</td>\n",
       "      <td>NaN</td>\n",
       "      <td>NaN</td>\n",
       "      <td>NaN</td>\n",
       "      <td>NaN</td>\n",
       "      <td>40.835994</td>\n",
       "      <td>-73.828379</td>\n",
       "      <td>(40.83599404683083, -73.82837939584206)</td>\n",
       "    </tr>\n",
       "    <tr>\n",
       "      <th>4</th>\n",
       "      <td>32306529</td>\n",
       "      <td>12/31/2015 11:56:58 PM</td>\n",
       "      <td>01-01-16 3:24</td>\n",
       "      <td>NYPD</td>\n",
       "      <td>New York City Police Department</td>\n",
       "      <td>Illegal Parking</td>\n",
       "      <td>Blocked Sidewalk</td>\n",
       "      <td>Street/Sidewalk</td>\n",
       "      <td>11373.0</td>\n",
       "      <td>87-14 57 ROAD</td>\n",
       "      <td>...</td>\n",
       "      <td>NaN</td>\n",
       "      <td>NaN</td>\n",
       "      <td>NaN</td>\n",
       "      <td>NaN</td>\n",
       "      <td>NaN</td>\n",
       "      <td>NaN</td>\n",
       "      <td>NaN</td>\n",
       "      <td>40.733060</td>\n",
       "      <td>-73.874170</td>\n",
       "      <td>(40.733059618956815, -73.87416975810375)</td>\n",
       "    </tr>\n",
       "  </tbody>\n",
       "</table>\n",
       "<p>5 rows × 53 columns</p>\n",
       "</div>"
      ],
      "text/plain": [
       "   Unique Key            Created Date    Closed Date Agency  \\\n",
       "0    32310363  12/31/2015 11:59:45 PM  01-01-16 0:55   NYPD   \n",
       "1    32309934  12/31/2015 11:59:44 PM  01-01-16 1:26   NYPD   \n",
       "2    32309159  12/31/2015 11:59:29 PM  01-01-16 4:51   NYPD   \n",
       "3    32305098  12/31/2015 11:57:46 PM  01-01-16 7:43   NYPD   \n",
       "4    32306529  12/31/2015 11:56:58 PM  01-01-16 3:24   NYPD   \n",
       "\n",
       "                       Agency Name           Complaint Type  \\\n",
       "0  New York City Police Department  Noise - Street/Sidewalk   \n",
       "1  New York City Police Department         Blocked Driveway   \n",
       "2  New York City Police Department         Blocked Driveway   \n",
       "3  New York City Police Department          Illegal Parking   \n",
       "4  New York City Police Department          Illegal Parking   \n",
       "\n",
       "                     Descriptor    Location Type  Incident Zip  \\\n",
       "0              Loud Music/Party  Street/Sidewalk       10034.0   \n",
       "1                     No Access  Street/Sidewalk       11105.0   \n",
       "2                     No Access  Street/Sidewalk       10458.0   \n",
       "3  Commercial Overnight Parking  Street/Sidewalk       10461.0   \n",
       "4              Blocked Sidewalk  Street/Sidewalk       11373.0   \n",
       "\n",
       "        Incident Address  ... Bridge Highway Name Bridge Highway Direction  \\\n",
       "0    71 VERMILYEA AVENUE  ...                 NaN                      NaN   \n",
       "1        27-07 23 AVENUE  ...                 NaN                      NaN   \n",
       "2  2897 VALENTINE AVENUE  ...                 NaN                      NaN   \n",
       "3    2940 BAISLEY AVENUE  ...                 NaN                      NaN   \n",
       "4          87-14 57 ROAD  ...                 NaN                      NaN   \n",
       "\n",
       "  Road Ramp Bridge Highway Segment Garage Lot Name Ferry Direction  \\\n",
       "0       NaN                    NaN             NaN             NaN   \n",
       "1       NaN                    NaN             NaN             NaN   \n",
       "2       NaN                    NaN             NaN             NaN   \n",
       "3       NaN                    NaN             NaN             NaN   \n",
       "4       NaN                    NaN             NaN             NaN   \n",
       "\n",
       "  Ferry Terminal Name   Latitude  Longitude  \\\n",
       "0                 NaN  40.865682 -73.923501   \n",
       "1                 NaN  40.775945 -73.915094   \n",
       "2                 NaN  40.870325 -73.888525   \n",
       "3                 NaN  40.835994 -73.828379   \n",
       "4                 NaN  40.733060 -73.874170   \n",
       "\n",
       "                                   Location  \n",
       "0   (40.86568153633767, -73.92350095571744)  \n",
       "1  (40.775945312321085, -73.91509393898605)  \n",
       "2  (40.870324522111424, -73.88852464418646)  \n",
       "3   (40.83599404683083, -73.82837939584206)  \n",
       "4  (40.733059618956815, -73.87416975810375)  \n",
       "\n",
       "[5 rows x 53 columns]"
      ]
     },
     "execution_count": 59,
     "metadata": {},
     "output_type": "execute_result"
    }
   ],
   "source": [
    "customer_df.head()"
   ]
  },
  {
   "cell_type": "markdown",
   "id": "c7f90ad7",
   "metadata": {},
   "source": [
    "- As visible below, many columns has a lot of null values\n",
    "- The size of the dataframe is around 121 MB"
   ]
  },
  {
   "cell_type": "code",
   "execution_count": 60,
   "id": "20c3276e",
   "metadata": {},
   "outputs": [
    {
     "name": "stdout",
     "output_type": "stream",
     "text": [
      "<class 'pandas.core.frame.DataFrame'>\n",
      "RangeIndex: 300698 entries, 0 to 300697\n",
      "Data columns (total 53 columns):\n",
      " #   Column                          Non-Null Count   Dtype  \n",
      "---  ------                          --------------   -----  \n",
      " 0   Unique Key                      300698 non-null  int64  \n",
      " 1   Created Date                    300698 non-null  object \n",
      " 2   Closed Date                     298534 non-null  object \n",
      " 3   Agency                          300698 non-null  object \n",
      " 4   Agency Name                     300698 non-null  object \n",
      " 5   Complaint Type                  300698 non-null  object \n",
      " 6   Descriptor                      294784 non-null  object \n",
      " 7   Location Type                   300567 non-null  object \n",
      " 8   Incident Zip                    298083 non-null  float64\n",
      " 9   Incident Address                256288 non-null  object \n",
      " 10  Street Name                     256288 non-null  object \n",
      " 11  Cross Street 1                  251419 non-null  object \n",
      " 12  Cross Street 2                  250919 non-null  object \n",
      " 13  Intersection Street 1           43858 non-null   object \n",
      " 14  Intersection Street 2           43362 non-null   object \n",
      " 15  Address Type                    297883 non-null  object \n",
      " 16  City                            298084 non-null  object \n",
      " 17  Landmark                        349 non-null     object \n",
      " 18  Facility Type                   298527 non-null  object \n",
      " 19  Status                          300698 non-null  object \n",
      " 20  Due Date                        300695 non-null  object \n",
      " 21  Resolution Description          300698 non-null  object \n",
      " 22  Resolution Action Updated Date  298511 non-null  object \n",
      " 23  Community Board                 300698 non-null  object \n",
      " 24  Borough                         300698 non-null  object \n",
      " 25  X Coordinate (State Plane)      297158 non-null  float64\n",
      " 26  Y Coordinate (State Plane)      297158 non-null  float64\n",
      " 27  Park Facility Name              300698 non-null  object \n",
      " 28  Park Borough                    300698 non-null  object \n",
      " 29  School Name                     300698 non-null  object \n",
      " 30  School Number                   300698 non-null  object \n",
      " 31  School Region                   300697 non-null  object \n",
      " 32  School Code                     300697 non-null  object \n",
      " 33  School Phone Number             300698 non-null  object \n",
      " 34  School Address                  300698 non-null  object \n",
      " 35  School City                     300698 non-null  object \n",
      " 36  School State                    300698 non-null  object \n",
      " 37  School Zip                      300697 non-null  object \n",
      " 38  School Not Found                300698 non-null  object \n",
      " 39  School or Citywide Complaint    0 non-null       float64\n",
      " 40  Vehicle Type                    0 non-null       float64\n",
      " 41  Taxi Company Borough            0 non-null       float64\n",
      " 42  Taxi Pick Up Location           0 non-null       float64\n",
      " 43  Bridge Highway Name             243 non-null     object \n",
      " 44  Bridge Highway Direction        243 non-null     object \n",
      " 45  Road Ramp                       213 non-null     object \n",
      " 46  Bridge Highway Segment          213 non-null     object \n",
      " 47  Garage Lot Name                 0 non-null       float64\n",
      " 48  Ferry Direction                 1 non-null       object \n",
      " 49  Ferry Terminal Name             2 non-null       object \n",
      " 50  Latitude                        297158 non-null  float64\n",
      " 51  Longitude                       297158 non-null  float64\n",
      " 52  Location                        297158 non-null  object \n",
      "dtypes: float64(10), int64(1), object(42)\n",
      "memory usage: 121.6+ MB\n"
     ]
    }
   ],
   "source": [
    "customer_df.info()"
   ]
  },
  {
   "cell_type": "markdown",
   "id": "66fbb4ed",
   "metadata": {},
   "source": [
    "- Make a list of columns which has null values and irrlevate data\n",
    "- Dropping the listed columns"
   ]
  },
  {
   "cell_type": "code",
   "execution_count": 61,
   "id": "ac80d75e",
   "metadata": {},
   "outputs": [],
   "source": [
    "drop_columns= ['Agency Name','Incident Address','Street Name','Cross Street 1','Cross Street 2','Intersection Street 1',\n",
    "'Intersection Street 2','Park Facility Name','Park Borough','School Name',\n",
    "'School Number','School Region','School Code','School Phone Number','School Address','School City',\n",
    "'School State','School Zip','School Not Found','School or Citywide Complaint','Vehicle Type',\n",
    "'Taxi Company Borough','Taxi Pick Up Location','Bridge Highway Name','Bridge Highway Direction',\n",
    "'Road Ramp','Bridge Highway Segment','Garage Lot Name','Ferry Direction','Ferry Terminal Name','Landmark',\n",
    "'X Coordinate (State Plane)','Y Coordinate (State Plane)','Due Date','Resolution Action Updated Date','Community Board','Facility Type',\n",
    "'Location']"
   ]
  },
  {
   "cell_type": "code",
   "execution_count": 62,
   "id": "40c831bd",
   "metadata": {},
   "outputs": [],
   "source": [
    "customer_df.drop(columns = drop_columns, inplace= True)"
   ]
  },
  {
   "cell_type": "code",
   "execution_count": 63,
   "id": "77ec9268",
   "metadata": {},
   "outputs": [
    {
     "name": "stdout",
     "output_type": "stream",
     "text": [
      "<class 'pandas.core.frame.DataFrame'>\n",
      "RangeIndex: 300698 entries, 0 to 300697\n",
      "Data columns (total 15 columns):\n",
      " #   Column                  Non-Null Count   Dtype  \n",
      "---  ------                  --------------   -----  \n",
      " 0   Unique Key              300698 non-null  int64  \n",
      " 1   Created Date            300698 non-null  object \n",
      " 2   Closed Date             298534 non-null  object \n",
      " 3   Agency                  300698 non-null  object \n",
      " 4   Complaint Type          300698 non-null  object \n",
      " 5   Descriptor              294784 non-null  object \n",
      " 6   Location Type           300567 non-null  object \n",
      " 7   Incident Zip            298083 non-null  float64\n",
      " 8   Address Type            297883 non-null  object \n",
      " 9   City                    298084 non-null  object \n",
      " 10  Status                  300698 non-null  object \n",
      " 11  Resolution Description  300698 non-null  object \n",
      " 12  Borough                 300698 non-null  object \n",
      " 13  Latitude                297158 non-null  float64\n",
      " 14  Longitude               297158 non-null  float64\n",
      "dtypes: float64(3), int64(1), object(11)\n",
      "memory usage: 34.4+ MB\n"
     ]
    }
   ],
   "source": [
    "customer_df.info()"
   ]
  },
  {
   "cell_type": "markdown",
   "id": "2b6ec456",
   "metadata": {},
   "source": [
    "- Now we could notice the size of dataframe is reduced to around 34 MB"
   ]
  },
  {
   "cell_type": "code",
   "execution_count": 64,
   "id": "1b010453",
   "metadata": {},
   "outputs": [
    {
     "data": {
      "text/html": [
       "<div>\n",
       "<style scoped>\n",
       "    .dataframe tbody tr th:only-of-type {\n",
       "        vertical-align: middle;\n",
       "    }\n",
       "\n",
       "    .dataframe tbody tr th {\n",
       "        vertical-align: top;\n",
       "    }\n",
       "\n",
       "    .dataframe thead th {\n",
       "        text-align: right;\n",
       "    }\n",
       "</style>\n",
       "<table border=\"1\" class=\"dataframe\">\n",
       "  <thead>\n",
       "    <tr style=\"text-align: right;\">\n",
       "      <th></th>\n",
       "      <th>Unique Key</th>\n",
       "      <th>Created Date</th>\n",
       "      <th>Closed Date</th>\n",
       "      <th>Agency</th>\n",
       "      <th>Complaint Type</th>\n",
       "      <th>Descriptor</th>\n",
       "      <th>Location Type</th>\n",
       "      <th>Incident Zip</th>\n",
       "      <th>Address Type</th>\n",
       "      <th>City</th>\n",
       "      <th>Status</th>\n",
       "      <th>Resolution Description</th>\n",
       "      <th>Borough</th>\n",
       "      <th>Latitude</th>\n",
       "      <th>Longitude</th>\n",
       "    </tr>\n",
       "  </thead>\n",
       "  <tbody>\n",
       "    <tr>\n",
       "      <th>0</th>\n",
       "      <td>32310363</td>\n",
       "      <td>12/31/2015 11:59:45 PM</td>\n",
       "      <td>01-01-16 0:55</td>\n",
       "      <td>NYPD</td>\n",
       "      <td>Noise - Street/Sidewalk</td>\n",
       "      <td>Loud Music/Party</td>\n",
       "      <td>Street/Sidewalk</td>\n",
       "      <td>10034.0</td>\n",
       "      <td>ADDRESS</td>\n",
       "      <td>NEW YORK</td>\n",
       "      <td>Closed</td>\n",
       "      <td>The Police Department responded and upon arriv...</td>\n",
       "      <td>MANHATTAN</td>\n",
       "      <td>40.865682</td>\n",
       "      <td>-73.923501</td>\n",
       "    </tr>\n",
       "    <tr>\n",
       "      <th>1</th>\n",
       "      <td>32309934</td>\n",
       "      <td>12/31/2015 11:59:44 PM</td>\n",
       "      <td>01-01-16 1:26</td>\n",
       "      <td>NYPD</td>\n",
       "      <td>Blocked Driveway</td>\n",
       "      <td>No Access</td>\n",
       "      <td>Street/Sidewalk</td>\n",
       "      <td>11105.0</td>\n",
       "      <td>ADDRESS</td>\n",
       "      <td>ASTORIA</td>\n",
       "      <td>Closed</td>\n",
       "      <td>The Police Department responded to the complai...</td>\n",
       "      <td>QUEENS</td>\n",
       "      <td>40.775945</td>\n",
       "      <td>-73.915094</td>\n",
       "    </tr>\n",
       "    <tr>\n",
       "      <th>2</th>\n",
       "      <td>32309159</td>\n",
       "      <td>12/31/2015 11:59:29 PM</td>\n",
       "      <td>01-01-16 4:51</td>\n",
       "      <td>NYPD</td>\n",
       "      <td>Blocked Driveway</td>\n",
       "      <td>No Access</td>\n",
       "      <td>Street/Sidewalk</td>\n",
       "      <td>10458.0</td>\n",
       "      <td>ADDRESS</td>\n",
       "      <td>BRONX</td>\n",
       "      <td>Closed</td>\n",
       "      <td>The Police Department responded and upon arriv...</td>\n",
       "      <td>BRONX</td>\n",
       "      <td>40.870325</td>\n",
       "      <td>-73.888525</td>\n",
       "    </tr>\n",
       "    <tr>\n",
       "      <th>3</th>\n",
       "      <td>32305098</td>\n",
       "      <td>12/31/2015 11:57:46 PM</td>\n",
       "      <td>01-01-16 7:43</td>\n",
       "      <td>NYPD</td>\n",
       "      <td>Illegal Parking</td>\n",
       "      <td>Commercial Overnight Parking</td>\n",
       "      <td>Street/Sidewalk</td>\n",
       "      <td>10461.0</td>\n",
       "      <td>ADDRESS</td>\n",
       "      <td>BRONX</td>\n",
       "      <td>Closed</td>\n",
       "      <td>The Police Department responded to the complai...</td>\n",
       "      <td>BRONX</td>\n",
       "      <td>40.835994</td>\n",
       "      <td>-73.828379</td>\n",
       "    </tr>\n",
       "    <tr>\n",
       "      <th>4</th>\n",
       "      <td>32306529</td>\n",
       "      <td>12/31/2015 11:56:58 PM</td>\n",
       "      <td>01-01-16 3:24</td>\n",
       "      <td>NYPD</td>\n",
       "      <td>Illegal Parking</td>\n",
       "      <td>Blocked Sidewalk</td>\n",
       "      <td>Street/Sidewalk</td>\n",
       "      <td>11373.0</td>\n",
       "      <td>ADDRESS</td>\n",
       "      <td>ELMHURST</td>\n",
       "      <td>Closed</td>\n",
       "      <td>The Police Department responded and upon arriv...</td>\n",
       "      <td>QUEENS</td>\n",
       "      <td>40.733060</td>\n",
       "      <td>-73.874170</td>\n",
       "    </tr>\n",
       "  </tbody>\n",
       "</table>\n",
       "</div>"
      ],
      "text/plain": [
       "   Unique Key            Created Date    Closed Date Agency  \\\n",
       "0    32310363  12/31/2015 11:59:45 PM  01-01-16 0:55   NYPD   \n",
       "1    32309934  12/31/2015 11:59:44 PM  01-01-16 1:26   NYPD   \n",
       "2    32309159  12/31/2015 11:59:29 PM  01-01-16 4:51   NYPD   \n",
       "3    32305098  12/31/2015 11:57:46 PM  01-01-16 7:43   NYPD   \n",
       "4    32306529  12/31/2015 11:56:58 PM  01-01-16 3:24   NYPD   \n",
       "\n",
       "            Complaint Type                    Descriptor    Location Type  \\\n",
       "0  Noise - Street/Sidewalk              Loud Music/Party  Street/Sidewalk   \n",
       "1         Blocked Driveway                     No Access  Street/Sidewalk   \n",
       "2         Blocked Driveway                     No Access  Street/Sidewalk   \n",
       "3          Illegal Parking  Commercial Overnight Parking  Street/Sidewalk   \n",
       "4          Illegal Parking              Blocked Sidewalk  Street/Sidewalk   \n",
       "\n",
       "   Incident Zip Address Type      City  Status  \\\n",
       "0       10034.0      ADDRESS  NEW YORK  Closed   \n",
       "1       11105.0      ADDRESS   ASTORIA  Closed   \n",
       "2       10458.0      ADDRESS     BRONX  Closed   \n",
       "3       10461.0      ADDRESS     BRONX  Closed   \n",
       "4       11373.0      ADDRESS  ELMHURST  Closed   \n",
       "\n",
       "                              Resolution Description    Borough   Latitude  \\\n",
       "0  The Police Department responded and upon arriv...  MANHATTAN  40.865682   \n",
       "1  The Police Department responded to the complai...     QUEENS  40.775945   \n",
       "2  The Police Department responded and upon arriv...      BRONX  40.870325   \n",
       "3  The Police Department responded to the complai...      BRONX  40.835994   \n",
       "4  The Police Department responded and upon arriv...     QUEENS  40.733060   \n",
       "\n",
       "   Longitude  \n",
       "0 -73.923501  \n",
       "1 -73.915094  \n",
       "2 -73.888525  \n",
       "3 -73.828379  \n",
       "4 -73.874170  "
      ]
     },
     "execution_count": 64,
     "metadata": {},
     "output_type": "execute_result"
    }
   ],
   "source": [
    "customer_df.head()"
   ]
  },
  {
   "cell_type": "code",
   "execution_count": 65,
   "id": "287e5f1d",
   "metadata": {},
   "outputs": [],
   "source": [
    "customer_df = customer_df[customer_df['Borough'] != 'Unspecified']"
   ]
  },
  {
   "cell_type": "code",
   "execution_count": 66,
   "id": "007a0d50",
   "metadata": {},
   "outputs": [
    {
     "data": {
      "text/plain": [
       "BROOKLYN         98307\n",
       "QUEENS           80641\n",
       "MANHATTAN        66131\n",
       "BRONX            40702\n",
       "STATEN ISLAND    12343\n",
       "Name: Borough, dtype: int64"
      ]
     },
     "execution_count": 66,
     "metadata": {},
     "output_type": "execute_result"
    }
   ],
   "source": [
    "customer_df['Borough'].value_counts()"
   ]
  },
  {
   "cell_type": "code",
   "execution_count": 67,
   "id": "39017081",
   "metadata": {},
   "outputs": [
    {
     "data": {
      "text/plain": [
       "Unique Key                298124\n",
       "Created Date              257405\n",
       "Closed Date               236820\n",
       "Agency                         1\n",
       "Complaint Type                21\n",
       "Descriptor                    41\n",
       "Location Type                 15\n",
       "Incident Zip                 201\n",
       "Address Type                   5\n",
       "City                          53\n",
       "Status                         4\n",
       "Resolution Description        14\n",
       "Borough                        5\n",
       "Latitude                  125122\n",
       "Longitude                 125216\n",
       "dtype: int64"
      ]
     },
     "execution_count": 67,
     "metadata": {},
     "output_type": "execute_result"
    }
   ],
   "source": [
    "customer_df.nunique()"
   ]
  },
  {
   "cell_type": "markdown",
   "id": "0ed09283",
   "metadata": {},
   "source": [
    "## 2. Read or convert the columns ‘Created Date’ and Closed Date’ to datetime datatype and create a new column ‘Request_Closing_Time’ as the time elapsed between request creation and request closing. "
   ]
  },
  {
   "cell_type": "code",
   "execution_count": 68,
   "id": "1c9e6887",
   "metadata": {},
   "outputs": [],
   "source": [
    "customer_df['Created Date'] = pd.to_datetime(customer_df['Created Date'])\n",
    "customer_df['Closed Date'] = pd.to_datetime(customer_df['Closed Date'])"
   ]
  },
  {
   "cell_type": "code",
   "execution_count": 69,
   "id": "ab264d0e",
   "metadata": {},
   "outputs": [],
   "source": [
    "customer_df.dropna(subset=['Created Date','Closed Date','City'], inplace=True)"
   ]
  },
  {
   "cell_type": "code",
   "execution_count": 70,
   "id": "d8493529",
   "metadata": {},
   "outputs": [
    {
     "name": "stdout",
     "output_type": "stream",
     "text": [
      "<class 'pandas.core.frame.DataFrame'>\n",
      "Int64Index: 298027 entries, 0 to 300697\n",
      "Data columns (total 15 columns):\n",
      " #   Column                  Non-Null Count   Dtype         \n",
      "---  ------                  --------------   -----         \n",
      " 0   Unique Key              298027 non-null  int64         \n",
      " 1   Created Date            298027 non-null  datetime64[ns]\n",
      " 2   Closed Date             298027 non-null  datetime64[ns]\n",
      " 3   Agency                  298027 non-null  object        \n",
      " 4   Complaint Type          298027 non-null  object        \n",
      " 5   Descriptor              292121 non-null  object        \n",
      " 6   Location Type           297905 non-null  object        \n",
      " 7   Incident Zip            298024 non-null  float64       \n",
      " 8   Address Type            297789 non-null  object        \n",
      " 9   City                    298027 non-null  object        \n",
      " 10  Status                  298027 non-null  object        \n",
      " 11  Resolution Description  298027 non-null  object        \n",
      " 12  Borough                 298027 non-null  object        \n",
      " 13  Latitude                297061 non-null  float64       \n",
      " 14  Longitude               297061 non-null  float64       \n",
      "dtypes: datetime64[ns](2), float64(3), int64(1), object(9)\n",
      "memory usage: 36.4+ MB\n"
     ]
    }
   ],
   "source": [
    "customer_df.info()"
   ]
  },
  {
   "cell_type": "code",
   "execution_count": 71,
   "id": "5fe7898d",
   "metadata": {},
   "outputs": [],
   "source": [
    "customer_df['Request_Closing_Time'] = customer_df['Closed Date'] - customer_df['Created Date']"
   ]
  },
  {
   "cell_type": "code",
   "execution_count": 72,
   "id": "d8a8f486",
   "metadata": {},
   "outputs": [
    {
     "data": {
      "text/html": [
       "<div>\n",
       "<style scoped>\n",
       "    .dataframe tbody tr th:only-of-type {\n",
       "        vertical-align: middle;\n",
       "    }\n",
       "\n",
       "    .dataframe tbody tr th {\n",
       "        vertical-align: top;\n",
       "    }\n",
       "\n",
       "    .dataframe thead th {\n",
       "        text-align: right;\n",
       "    }\n",
       "</style>\n",
       "<table border=\"1\" class=\"dataframe\">\n",
       "  <thead>\n",
       "    <tr style=\"text-align: right;\">\n",
       "      <th></th>\n",
       "      <th>Unique Key</th>\n",
       "      <th>Created Date</th>\n",
       "      <th>Closed Date</th>\n",
       "      <th>Agency</th>\n",
       "      <th>Complaint Type</th>\n",
       "      <th>Descriptor</th>\n",
       "      <th>Location Type</th>\n",
       "      <th>Incident Zip</th>\n",
       "      <th>Address Type</th>\n",
       "      <th>City</th>\n",
       "      <th>Status</th>\n",
       "      <th>Resolution Description</th>\n",
       "      <th>Borough</th>\n",
       "      <th>Latitude</th>\n",
       "      <th>Longitude</th>\n",
       "      <th>Request_Closing_Time</th>\n",
       "    </tr>\n",
       "  </thead>\n",
       "  <tbody>\n",
       "    <tr>\n",
       "      <th>0</th>\n",
       "      <td>32310363</td>\n",
       "      <td>2015-12-31 23:59:45</td>\n",
       "      <td>2016-01-01 00:55:00</td>\n",
       "      <td>NYPD</td>\n",
       "      <td>Noise - Street/Sidewalk</td>\n",
       "      <td>Loud Music/Party</td>\n",
       "      <td>Street/Sidewalk</td>\n",
       "      <td>10034.0</td>\n",
       "      <td>ADDRESS</td>\n",
       "      <td>NEW YORK</td>\n",
       "      <td>Closed</td>\n",
       "      <td>The Police Department responded and upon arriv...</td>\n",
       "      <td>MANHATTAN</td>\n",
       "      <td>40.865682</td>\n",
       "      <td>-73.923501</td>\n",
       "      <td>0 days 00:55:15</td>\n",
       "    </tr>\n",
       "    <tr>\n",
       "      <th>1</th>\n",
       "      <td>32309934</td>\n",
       "      <td>2015-12-31 23:59:44</td>\n",
       "      <td>2016-01-01 01:26:00</td>\n",
       "      <td>NYPD</td>\n",
       "      <td>Blocked Driveway</td>\n",
       "      <td>No Access</td>\n",
       "      <td>Street/Sidewalk</td>\n",
       "      <td>11105.0</td>\n",
       "      <td>ADDRESS</td>\n",
       "      <td>ASTORIA</td>\n",
       "      <td>Closed</td>\n",
       "      <td>The Police Department responded to the complai...</td>\n",
       "      <td>QUEENS</td>\n",
       "      <td>40.775945</td>\n",
       "      <td>-73.915094</td>\n",
       "      <td>0 days 01:26:16</td>\n",
       "    </tr>\n",
       "    <tr>\n",
       "      <th>2</th>\n",
       "      <td>32309159</td>\n",
       "      <td>2015-12-31 23:59:29</td>\n",
       "      <td>2016-01-01 04:51:00</td>\n",
       "      <td>NYPD</td>\n",
       "      <td>Blocked Driveway</td>\n",
       "      <td>No Access</td>\n",
       "      <td>Street/Sidewalk</td>\n",
       "      <td>10458.0</td>\n",
       "      <td>ADDRESS</td>\n",
       "      <td>BRONX</td>\n",
       "      <td>Closed</td>\n",
       "      <td>The Police Department responded and upon arriv...</td>\n",
       "      <td>BRONX</td>\n",
       "      <td>40.870325</td>\n",
       "      <td>-73.888525</td>\n",
       "      <td>0 days 04:51:31</td>\n",
       "    </tr>\n",
       "    <tr>\n",
       "      <th>3</th>\n",
       "      <td>32305098</td>\n",
       "      <td>2015-12-31 23:57:46</td>\n",
       "      <td>2016-01-01 07:43:00</td>\n",
       "      <td>NYPD</td>\n",
       "      <td>Illegal Parking</td>\n",
       "      <td>Commercial Overnight Parking</td>\n",
       "      <td>Street/Sidewalk</td>\n",
       "      <td>10461.0</td>\n",
       "      <td>ADDRESS</td>\n",
       "      <td>BRONX</td>\n",
       "      <td>Closed</td>\n",
       "      <td>The Police Department responded to the complai...</td>\n",
       "      <td>BRONX</td>\n",
       "      <td>40.835994</td>\n",
       "      <td>-73.828379</td>\n",
       "      <td>0 days 07:45:14</td>\n",
       "    </tr>\n",
       "    <tr>\n",
       "      <th>4</th>\n",
       "      <td>32306529</td>\n",
       "      <td>2015-12-31 23:56:58</td>\n",
       "      <td>2016-01-01 03:24:00</td>\n",
       "      <td>NYPD</td>\n",
       "      <td>Illegal Parking</td>\n",
       "      <td>Blocked Sidewalk</td>\n",
       "      <td>Street/Sidewalk</td>\n",
       "      <td>11373.0</td>\n",
       "      <td>ADDRESS</td>\n",
       "      <td>ELMHURST</td>\n",
       "      <td>Closed</td>\n",
       "      <td>The Police Department responded and upon arriv...</td>\n",
       "      <td>QUEENS</td>\n",
       "      <td>40.733060</td>\n",
       "      <td>-73.874170</td>\n",
       "      <td>0 days 03:27:02</td>\n",
       "    </tr>\n",
       "  </tbody>\n",
       "</table>\n",
       "</div>"
      ],
      "text/plain": [
       "   Unique Key        Created Date         Closed Date Agency  \\\n",
       "0    32310363 2015-12-31 23:59:45 2016-01-01 00:55:00   NYPD   \n",
       "1    32309934 2015-12-31 23:59:44 2016-01-01 01:26:00   NYPD   \n",
       "2    32309159 2015-12-31 23:59:29 2016-01-01 04:51:00   NYPD   \n",
       "3    32305098 2015-12-31 23:57:46 2016-01-01 07:43:00   NYPD   \n",
       "4    32306529 2015-12-31 23:56:58 2016-01-01 03:24:00   NYPD   \n",
       "\n",
       "            Complaint Type                    Descriptor    Location Type  \\\n",
       "0  Noise - Street/Sidewalk              Loud Music/Party  Street/Sidewalk   \n",
       "1         Blocked Driveway                     No Access  Street/Sidewalk   \n",
       "2         Blocked Driveway                     No Access  Street/Sidewalk   \n",
       "3          Illegal Parking  Commercial Overnight Parking  Street/Sidewalk   \n",
       "4          Illegal Parking              Blocked Sidewalk  Street/Sidewalk   \n",
       "\n",
       "   Incident Zip Address Type      City  Status  \\\n",
       "0       10034.0      ADDRESS  NEW YORK  Closed   \n",
       "1       11105.0      ADDRESS   ASTORIA  Closed   \n",
       "2       10458.0      ADDRESS     BRONX  Closed   \n",
       "3       10461.0      ADDRESS     BRONX  Closed   \n",
       "4       11373.0      ADDRESS  ELMHURST  Closed   \n",
       "\n",
       "                              Resolution Description    Borough   Latitude  \\\n",
       "0  The Police Department responded and upon arriv...  MANHATTAN  40.865682   \n",
       "1  The Police Department responded to the complai...     QUEENS  40.775945   \n",
       "2  The Police Department responded and upon arriv...      BRONX  40.870325   \n",
       "3  The Police Department responded to the complai...      BRONX  40.835994   \n",
       "4  The Police Department responded and upon arriv...     QUEENS  40.733060   \n",
       "\n",
       "   Longitude Request_Closing_Time  \n",
       "0 -73.923501      0 days 00:55:15  \n",
       "1 -73.915094      0 days 01:26:16  \n",
       "2 -73.888525      0 days 04:51:31  \n",
       "3 -73.828379      0 days 07:45:14  \n",
       "4 -73.874170      0 days 03:27:02  "
      ]
     },
     "execution_count": 72,
     "metadata": {},
     "output_type": "execute_result"
    }
   ],
   "source": [
    "customer_df.head()"
   ]
  },
  {
   "cell_type": "markdown",
   "id": "0c785122",
   "metadata": {},
   "source": [
    "## 3. Provide major insights/patterns that you can offer in a visual format (graphs or tables); at least 4 major conclusions that you can come up with after generic data mining."
   ]
  },
  {
   "cell_type": "markdown",
   "id": "5feee5c0",
   "metadata": {},
   "source": [
    "Frequency of Top 5 complaints received"
   ]
  },
  {
   "cell_type": "code",
   "execution_count": 73,
   "id": "5be2fdc8",
   "metadata": {},
   "outputs": [
    {
     "data": {
      "image/png": "[encoded data removed]",
      "text/plain": [
       "<Figure size 720x432 with 1 Axes>"
      ]
     },
     "metadata": {
      "needs_background": "light"
     },
     "output_type": "display_data"
    }
   ],
   "source": [
    "plt.figure(figsize=(10,6))\n",
    "plt.bar(customer_df['Complaint Type'].value_counts().keys()[:5], customer_df['Complaint Type'].value_counts()[:5])\n",
    "plt.xticks(rotation = 35)\n",
    "plt.show()"
   ]
  },
  {
   "cell_type": "markdown",
   "id": "ab9ef890",
   "metadata": {},
   "source": [
    "- As shown above, the highest number of complaint received of 'Blocked Driveway' type, followed by 'Illegal Parking' and 'Noise - Street/Sidewalk'"
   ]
  },
  {
   "cell_type": "markdown",
   "id": "e7272d22",
   "metadata": {},
   "source": [
    "Lets analyse Top 5 Description of compaints received"
   ]
  },
  {
   "cell_type": "code",
   "execution_count": 74,
   "id": "8c07c750",
   "metadata": {},
   "outputs": [
    {
     "data": {
      "image/png": "[encoded data removed]",
      "text/plain": [
       "<Figure size 720x432 with 1 Axes>"
      ]
     },
     "metadata": {
      "needs_background": "light"
     },
     "output_type": "display_data"
    }
   ],
   "source": [
    "plt.figure(figsize=(10,6))\n",
    "plt.bar(customer_df['Descriptor'].value_counts()[:5].keys(), customer_df['Descriptor'].value_counts()[:5])\n",
    "plt.xticks(rotation = 55)\n",
    "plt.show()"
   ]
  },
  {
   "cell_type": "markdown",
   "id": "c9efb282",
   "metadata": {},
   "source": [
    "- From the above plot it is clear that 'Blocked Driveway' complaints are received with description 'No Access' followed by 'Posted Parking Sign Violation' and 'Partial Access'.\n",
    "- 'Loud Music/Party' and 'Loud Talking' are well describes the Noise related complaint types."
   ]
  },
  {
   "cell_type": "code",
   "execution_count": 75,
   "id": "41cf867a",
   "metadata": {},
   "outputs": [
    {
     "data": {
      "image/png": "[encoded data removed]",
      "text/plain": [
       "<Figure size 720x576 with 2 Axes>"
      ]
     },
     "metadata": {
      "needs_background": "light"
     },
     "output_type": "display_data"
    }
   ],
   "source": [
    "fig, ax = plt.subplots(2, figsize = (10,8))\n",
    "\n",
    "location = sns.barplot(ax = ax[1], x = customer_df['Location Type'].value_counts()[:5].keys(), y = customer_df['Location Type'].value_counts()[:5])\n",
    "location.set_xticklabels(location.get_xticklabels(), rotation=30, ha=\"right\")\n",
    "\n",
    "\n",
    "borough = sns.barplot(ax = ax[0], x = customer_df['Borough'].value_counts()[:5].keys(), y = customer_df['Borough'].value_counts()[:5])\n",
    "borough.set_xticklabels(borough.get_xticklabels(), rotation=30, ha=\"right\")\n",
    "\n",
    "\n",
    "plt.tight_layout()"
   ]
  },
  {
   "cell_type": "markdown",
   "id": "4dc29652",
   "metadata": {},
   "source": [
    "- Brooklyn has the most number of complaints followed by Queens and Manhattan.\n",
    "- Most of the complaints are arriving on Street/Sidewalk."
   ]
  },
  {
   "cell_type": "code",
   "execution_count": 76,
   "id": "0618868b",
   "metadata": {},
   "outputs": [],
   "source": [
    "complaints_type = ['Blocked Driveway','Illegal Parking','Noise - Commercial','Noise - Street/Sidewalk','Derelict Vehicle','Animal Abuse']\n",
    "complaints_borough = customer_df.groupby(['Borough','Complaint Type']).size().unstack()\n",
    "complaints_borough = complaints_borough[complaints_type]"
   ]
  },
  {
   "cell_type": "code",
   "execution_count": 77,
   "id": "5e472eb6",
   "metadata": {},
   "outputs": [
    {
     "data": {
      "text/html": [
       "<div>\n",
       "<style scoped>\n",
       "    .dataframe tbody tr th:only-of-type {\n",
       "        vertical-align: middle;\n",
       "    }\n",
       "\n",
       "    .dataframe tbody tr th {\n",
       "        vertical-align: top;\n",
       "    }\n",
       "\n",
       "    .dataframe thead th {\n",
       "        text-align: right;\n",
       "    }\n",
       "</style>\n",
       "<table border=\"1\" class=\"dataframe\">\n",
       "  <thead>\n",
       "    <tr style=\"text-align: right;\">\n",
       "      <th>Complaint Type</th>\n",
       "      <th>Blocked Driveway</th>\n",
       "      <th>Illegal Parking</th>\n",
       "      <th>Noise - Commercial</th>\n",
       "      <th>Noise - Street/Sidewalk</th>\n",
       "      <th>Derelict Vehicle</th>\n",
       "      <th>Animal Abuse</th>\n",
       "    </tr>\n",
       "    <tr>\n",
       "      <th>Borough</th>\n",
       "      <th></th>\n",
       "      <th></th>\n",
       "      <th></th>\n",
       "      <th></th>\n",
       "      <th></th>\n",
       "      <th></th>\n",
       "    </tr>\n",
       "  </thead>\n",
       "  <tbody>\n",
       "    <tr>\n",
       "      <th>BRONX</th>\n",
       "      <td>12754.0</td>\n",
       "      <td>7859.0</td>\n",
       "      <td>2433.0</td>\n",
       "      <td>8889.0</td>\n",
       "      <td>1952.0</td>\n",
       "      <td>1415.0</td>\n",
       "    </tr>\n",
       "    <tr>\n",
       "      <th>BROOKLYN</th>\n",
       "      <td>28147.0</td>\n",
       "      <td>27461.0</td>\n",
       "      <td>11458.0</td>\n",
       "      <td>13353.0</td>\n",
       "      <td>5179.0</td>\n",
       "      <td>2394.0</td>\n",
       "    </tr>\n",
       "    <tr>\n",
       "      <th>MANHATTAN</th>\n",
       "      <td>2070.0</td>\n",
       "      <td>12127.0</td>\n",
       "      <td>14544.0</td>\n",
       "      <td>20522.0</td>\n",
       "      <td>537.0</td>\n",
       "      <td>1525.0</td>\n",
       "    </tr>\n",
       "    <tr>\n",
       "      <th>QUEENS</th>\n",
       "      <td>31639.0</td>\n",
       "      <td>21978.0</td>\n",
       "      <td>6073.0</td>\n",
       "      <td>4406.0</td>\n",
       "      <td>8108.0</td>\n",
       "      <td>1876.0</td>\n",
       "    </tr>\n",
       "    <tr>\n",
       "      <th>STATEN ISLAND</th>\n",
       "      <td>2142.0</td>\n",
       "      <td>4886.0</td>\n",
       "      <td>677.0</td>\n",
       "      <td>816.0</td>\n",
       "      <td>1766.0</td>\n",
       "      <td>557.0</td>\n",
       "    </tr>\n",
       "  </tbody>\n",
       "</table>\n",
       "</div>"
      ],
      "text/plain": [
       "Complaint Type  Blocked Driveway  Illegal Parking  Noise - Commercial  \\\n",
       "Borough                                                                 \n",
       "BRONX                    12754.0           7859.0              2433.0   \n",
       "BROOKLYN                 28147.0          27461.0             11458.0   \n",
       "MANHATTAN                 2070.0          12127.0             14544.0   \n",
       "QUEENS                   31639.0          21978.0              6073.0   \n",
       "STATEN ISLAND             2142.0           4886.0               677.0   \n",
       "\n",
       "Complaint Type  Noise - Street/Sidewalk  Derelict Vehicle  Animal Abuse  \n",
       "Borough                                                                  \n",
       "BRONX                            8889.0            1952.0        1415.0  \n",
       "BROOKLYN                        13353.0            5179.0        2394.0  \n",
       "MANHATTAN                       20522.0             537.0        1525.0  \n",
       "QUEENS                           4406.0            8108.0        1876.0  \n",
       "STATEN ISLAND                     816.0            1766.0         557.0  "
      ]
     },
     "execution_count": 77,
     "metadata": {},
     "output_type": "execute_result"
    }
   ],
   "source": [
    "complaints_borough"
   ]
  },
  {
   "cell_type": "code",
   "execution_count": 78,
   "id": "f2be4ac2",
   "metadata": {},
   "outputs": [
    {
     "data": {
      "image/png": "[encoded data removed]",
      "text/plain": [
       "<Figure size 864x576 with 6 Axes>"
      ]
     },
     "metadata": {
      "needs_background": "light"
     },
     "output_type": "display_data"
    }
   ],
   "source": [
    "col_number = 2\n",
    "row_number = 3\n",
    "fig, axes = plt.subplots(row_number,col_number, figsize=(12,8))\n",
    "\n",
    "for i, (label,col) in enumerate(complaints_borough.iteritems()):\n",
    "    ax = axes[int(i/col_number), i%col_number]\n",
    "    col = col.sort_values(ascending=True)[:15]\n",
    "    col.plot(kind='barh', ax=ax)\n",
    "    ax.set_title(label)\n",
    "    \n",
    "plt.tight_layout()"
   ]
  },
  {
   "cell_type": "markdown",
   "id": "ff79c37f",
   "metadata": {},
   "source": [
    "- Brookyln has highest number complaints of 'Illegal Parking' and 'Animal Abuse'.\n",
    "- The 'Blocked Driveway' and 'Derelict Vehicle' complaints are mostly recoreded on Queens.\n",
    "- The plots clearly indicates that most of the noises complaints are coming from Manhattan.\n",
    "- Staten Island is recording relatively less number of complaints with respect to other boroughs."
   ]
  },
  {
   "cell_type": "code",
   "execution_count": 79,
   "id": "20832a7f",
   "metadata": {},
   "outputs": [
    {
     "data": {
      "text/html": [
       "<div>\n",
       "<style scoped>\n",
       "    .dataframe tbody tr th:only-of-type {\n",
       "        vertical-align: middle;\n",
       "    }\n",
       "\n",
       "    .dataframe tbody tr th {\n",
       "        vertical-align: top;\n",
       "    }\n",
       "\n",
       "    .dataframe thead th {\n",
       "        text-align: right;\n",
       "    }\n",
       "</style>\n",
       "<table border=\"1\" class=\"dataframe\">\n",
       "  <thead>\n",
       "    <tr style=\"text-align: right;\">\n",
       "      <th></th>\n",
       "      <th>Request_Closing_Time</th>\n",
       "      <th>Request_Closing_Hours</th>\n",
       "    </tr>\n",
       "  </thead>\n",
       "  <tbody>\n",
       "    <tr>\n",
       "      <th>0</th>\n",
       "      <td>0 days 00:55:15</td>\n",
       "      <td>1.0</td>\n",
       "    </tr>\n",
       "    <tr>\n",
       "      <th>1</th>\n",
       "      <td>0 days 01:26:16</td>\n",
       "      <td>2.0</td>\n",
       "    </tr>\n",
       "    <tr>\n",
       "      <th>2</th>\n",
       "      <td>0 days 04:51:31</td>\n",
       "      <td>5.0</td>\n",
       "    </tr>\n",
       "    <tr>\n",
       "      <th>3</th>\n",
       "      <td>0 days 07:45:14</td>\n",
       "      <td>8.0</td>\n",
       "    </tr>\n",
       "    <tr>\n",
       "      <th>4</th>\n",
       "      <td>0 days 03:27:02</td>\n",
       "      <td>4.0</td>\n",
       "    </tr>\n",
       "  </tbody>\n",
       "</table>\n",
       "</div>"
      ],
      "text/plain": [
       "  Request_Closing_Time  Request_Closing_Hours\n",
       "0      0 days 00:55:15                    1.0\n",
       "1      0 days 01:26:16                    2.0\n",
       "2      0 days 04:51:31                    5.0\n",
       "3      0 days 07:45:14                    8.0\n",
       "4      0 days 03:27:02                    4.0"
      ]
     },
     "execution_count": 79,
     "metadata": {},
     "output_type": "execute_result"
    }
   ],
   "source": [
    "customer_df['Request_Closing_Hours'] = customer_df['Request_Closing_Time'].astype('timedelta64[h]')+1\n",
    "customer_df[['Request_Closing_Time','Request_Closing_Hours']].head()"
   ]
  },
  {
   "cell_type": "code",
   "execution_count": 80,
   "id": "46869c42",
   "metadata": {},
   "outputs": [
    {
     "name": "stdout",
     "output_type": "stream",
     "text": [
      "Mean:  4.814724840366813\n",
      "Std:  6.049486959748234\n"
     ]
    }
   ],
   "source": [
    "mean = customer_df['Request_Closing_Hours'].mean()\n",
    "std = customer_df['Request_Closing_Hours'].std()\n",
    "\n",
    "print('Mean: ',mean)\n",
    "print('Std: ',std)"
   ]
  },
  {
   "cell_type": "code",
   "execution_count": 81,
   "id": "c697efd2",
   "metadata": {},
   "outputs": [
    {
     "data": {
      "text/plain": [
       "12168     224.0\n",
       "12167     224.0\n",
       "21268     520.0\n",
       "23664     578.0\n",
       "244488    593.0\n",
       "Name: Request_Closing_Hours, dtype: float64"
      ]
     },
     "execution_count": 81,
     "metadata": {},
     "output_type": "execute_result"
    }
   ],
   "source": [
    "customer_df['Request_Closing_Hours'].sort_values().tail()"
   ]
  },
  {
   "cell_type": "code",
   "execution_count": 82,
   "id": "213fd38a",
   "metadata": {},
   "outputs": [
    {
     "data": {
      "image/png": "[encoded data removed]",
      "text/plain": [
       "<Figure size 432x288 with 1 Axes>"
      ]
     },
     "metadata": {
      "needs_background": "light"
     },
     "output_type": "display_data"
    }
   ],
   "source": [
    "plot_data = customer_df[ ((customer_df['Request_Closing_Hours']-mean)/std) < 1]\n",
    "plot_data['Request_Closing_Hours'].hist(bins=9)\n",
    "plt.xlabel('Time(Hours) to close the request')\n",
    "plt.ylabel('Number of Requets')\n",
    "plt.title('Requests closing time distribution')\n",
    "plt.show()"
   ]
  },
  {
   "cell_type": "markdown",
   "id": "6d384cd2",
   "metadata": {},
   "source": [
    "- Most of the complaints are resolved in less than 4 hrs.\n",
    "- Almost all the complaints get closed within 10 hrs."
   ]
  },
  {
   "cell_type": "markdown",
   "id": "babc0eaa",
   "metadata": {},
   "source": [
    "## 4. Order the complaint types based on the average ‘Request_Closing_Time’, grouping them for different locations"
   ]
  },
  {
   "cell_type": "code",
   "execution_count": 83,
   "id": "f6156325",
   "metadata": {},
   "outputs": [
    {
     "data": {
      "image/png": "[encoded data removed]",
      "text/plain": [
       "<Figure size 864x864 with 6 Axes>"
      ]
     },
     "metadata": {
      "needs_background": "light"
     },
     "output_type": "display_data"
    }
   ],
   "source": [
    "citywise_resolution = customer_df.groupby(['Complaint Type','Borough'])[['Request_Closing_Hours']].mean().unstack()\n",
    "\n",
    "col_number = 2\n",
    "row_number = 3\n",
    "fig, axes = plt.subplots(row_number,col_number, figsize=(12,12))\n",
    "\n",
    "for i, (label,col) in enumerate(citywise_resolution.iteritems()):\n",
    "    ax = axes[int(i/col_number), i%col_number]\n",
    "    col = col.sort_values(ascending=True)[:15]\n",
    "    col.plot(kind='barh', ax=ax)\n",
    "    ax.set_title(label)\n",
    "    \n",
    "plt.tight_layout()"
   ]
  },
  {
   "cell_type": "markdown",
   "id": "052dd2f9",
   "metadata": {},
   "source": [
    "- Clearly, Vending complaints are taking long time to resolved.\n",
    "- Manhattan, Brooklyn and Queens are very good to handle Illegal Fireworks complaints."
   ]
  },
  {
   "cell_type": "code",
   "execution_count": 84,
   "id": "dc31d814",
   "metadata": {},
   "outputs": [
    {
     "data": {
      "image/png": "[encoded data removed]",
      "text/plain": [
       "<Figure size 864x360 with 1 Axes>"
      ]
     },
     "metadata": {
      "needs_background": "light"
     },
     "output_type": "display_data"
    }
   ],
   "source": [
    "import datetime\n",
    "customer_df['YYYY-MM'] = customer_df['Created Date'].apply(lambda x: datetime.datetime.strftime(x, '%Y-%m'))\n",
    "\n",
    "#Incidents on a monthly basis\n",
    "monthly_incidents =  customer_df.groupby('YYYY-MM').size().plot(figsize=(12,5), title='Incidents on a monthly basis');"
   ]
  },
  {
   "cell_type": "markdown",
   "id": "be6ae520",
   "metadata": {},
   "source": [
    "- Highest number of complaints are recorded in the month of May and September.\n",
    "- Least number of complaints are recorded in the month of March."
   ]
  },
  {
   "cell_type": "code",
   "execution_count": 85,
   "id": "95e73536",
   "metadata": {},
   "outputs": [
    {
     "data": {
      "image/png": "[encoded data removed]",
      "text/plain": [
       "<Figure size 1080x432 with 1 Axes>"
      ]
     },
     "metadata": {
      "needs_background": "light"
     },
     "output_type": "display_data"
    }
   ],
   "source": [
    "# Complaints per Borough through the year\n",
    "customer_df.groupby(['YYYY-MM','Borough']).size().unstack().plot(figsize=(15,6))\n",
    "plt.legend(loc='center left', bbox_to_anchor=(1.0, 0.5));"
   ]
  },
  {
   "cell_type": "code",
   "execution_count": null,
   "id": "55cb37cd",
   "metadata": {},
   "outputs": [],
   "source": []
  },
  {
   "cell_type": "markdown",
   "id": "783e66c3",
   "metadata": {},
   "source": [
    "# Perform Statistical Test"
   ]
  },
  {
   "cell_type": "markdown",
   "id": "57c644c5",
   "metadata": {},
   "source": [
    "### 1.  Whether the average response time across complaint types is similar or not (overall)"
   ]
  },
  {
   "cell_type": "markdown",
   "id": "2197b2b8",
   "metadata": {},
   "source": [
    "- First we will convert our hourly timedelta into minuted for more precise results.\n",
    "- Below is the distribution of our Request_Closing_Minutes data for 'Noise - Street/Sidewalk' complaint type.\n",
    "- We see a positive skewness in data if we limit the range to 1250\n",
    "- As our data contains too many outliers , hence we will transform the data using log transformation"
   ]
  },
  {
   "cell_type": "code",
   "execution_count": 86,
   "id": "47c4c436",
   "metadata": {},
   "outputs": [
    {
     "data": {
      "text/plain": [
       "<AxesSubplot:>"
      ]
     },
     "execution_count": 86,
     "metadata": {},
     "output_type": "execute_result"
    },
    {
     "data": {
      "image/png": "[encoded data removed]",
      "text/plain": [
       "<Figure size 432x288 with 1 Axes>"
      ]
     },
     "metadata": {
      "needs_background": "light"
     },
     "output_type": "display_data"
    }
   ],
   "source": [
    "customer_df['Request_Closing_Minutes'] = customer_df['Request_Closing_Time'].astype('timedelta64[m]')+1\n",
    "\n",
    "cust_df = customer_df[customer_df['Complaint Type']=='Noise - Street/Sidewalk']['Request_Closing_Minutes']\n",
    "cust_df.hist(bins=100,range=(0,1250))"
   ]
  },
  {
   "cell_type": "code",
   "execution_count": 87,
   "id": "baa2d099",
   "metadata": {},
   "outputs": [
    {
     "data": {
      "text/plain": [
       "count    47986.000000\n",
       "mean       207.016776\n",
       "std        326.610847\n",
       "min          3.000000\n",
       "25%         61.000000\n",
       "50%        133.000000\n",
       "75%        259.000000\n",
       "max      35573.000000\n",
       "Name: Request_Closing_Minutes, dtype: float64"
      ]
     },
     "execution_count": 87,
     "metadata": {},
     "output_type": "execute_result"
    }
   ],
   "source": [
    "cust_df.describe()"
   ]
  },
  {
   "cell_type": "markdown",
   "id": "c5ebd114",
   "metadata": {},
   "source": [
    "- When we look at above statistics, it becomes clear that we have very few but very large values after th 75th percentile."
   ]
  },
  {
   "cell_type": "markdown",
   "id": "4346c0f0",
   "metadata": {},
   "source": [
    "- we will take the log of Request_Closing_Minutes for each complaint type and store in a dictionary.\n",
    "- Log transformation removes the skewness from the data."
   ]
  },
  {
   "cell_type": "code",
   "execution_count": 88,
   "id": "822c930e",
   "metadata": {},
   "outputs": [],
   "source": [
    "data = {}\n",
    "for complaint in customer_df['Complaint Type'].unique():\n",
    "    data[complaint] = np.log(customer_df[customer_df['Complaint Type']==complaint]['Request_Closing_Minutes'])"
   ]
  },
  {
   "cell_type": "code",
   "execution_count": 89,
   "id": "ec307296",
   "metadata": {},
   "outputs": [
    {
     "data": {
      "text/plain": [
       "dict_keys(['Noise - Street/Sidewalk', 'Blocked Driveway', 'Illegal Parking', 'Derelict Vehicle', 'Noise - Commercial', 'Noise - House of Worship', 'Posting Advertisement', 'Noise - Vehicle', 'Animal Abuse', 'Vending', 'Traffic', 'Drinking', 'Bike/Roller/Skate Chronic', 'Panhandling', 'Noise - Park', 'Homeless Encampment', 'Urinating in Public', 'Graffiti', 'Disorderly Youth', 'Illegal Fireworks', 'Squeegee'])"
      ]
     },
     "execution_count": 89,
     "metadata": {},
     "output_type": "execute_result"
    }
   ],
   "source": [
    "data.keys()"
   ]
  },
  {
   "cell_type": "code",
   "execution_count": 90,
   "id": "26a155d9",
   "metadata": {},
   "outputs": [
    {
     "data": {
      "text/plain": [
       "<AxesSubplot:>"
      ]
     },
     "execution_count": 90,
     "metadata": {},
     "output_type": "execute_result"
    },
    {
     "data": {
      "image/png": "[encoded data removed]",
      "text/plain": [
       "<Figure size 432x288 with 1 Axes>"
      ]
     },
     "metadata": {
      "needs_background": "light"
     },
     "output_type": "display_data"
    }
   ],
   "source": [
    "data['Noise - Street/Sidewalk'].hist(bins=100)"
   ]
  },
  {
   "cell_type": "code",
   "execution_count": 91,
   "id": "1544b291",
   "metadata": {},
   "outputs": [
    {
     "data": {
      "text/plain": [
       "<AxesSubplot:>"
      ]
     },
     "execution_count": 91,
     "metadata": {},
     "output_type": "execute_result"
    },
    {
     "data": {
      "image/png": "[encoded data removed]",
      "text/plain": [
       "<Figure size 432x288 with 1 Axes>"
      ]
     },
     "metadata": {
      "needs_background": "light"
     },
     "output_type": "display_data"
    }
   ],
   "source": [
    "data['Noise - Street/Sidewalk'].plot(kind = 'box')"
   ]
  },
  {
   "cell_type": "code",
   "execution_count": 92,
   "id": "a7937cbd",
   "metadata": {},
   "outputs": [
    {
     "name": "stdout",
     "output_type": "stream",
     "text": [
      "1.088122697901445\n",
      "0.9689131801038576\n",
      "1.0669325650218924\n",
      "1.2472412521336702\n",
      "1.0740645608715385\n",
      "1.1578783566404034\n",
      "1.1940496830014724\n",
      "1.0640501695025244\n",
      "1.0353874715070719\n",
      "1.098828353631681\n",
      "1.1688314448754398\n",
      "1.0354309769699395\n",
      "1.1549910802980003\n",
      "1.0578811759503506\n",
      "1.103276477974517\n",
      "1.02141533267075\n",
      "1.0896898895618483\n",
      "1.0581967861803852\n",
      "1.0276748370244453\n",
      "1.1905406895067956\n",
      "0.8469384425802964\n"
     ]
    }
   ],
   "source": [
    "for complaint in data.keys():\n",
    "    print(data[complaint].std())"
   ]
  },
  {
   "cell_type": "markdown",
   "id": "4c138b66",
   "metadata": {},
   "source": [
    "-  To conduct our hypothesis test, we will conduct an ANOVA (analysis of variance) test as we have to compare the means of more than two groups.\n",
    "- Below conditions should be met before conducting ANOVA.\n",
    "    1. All distributions must follow a normal distributions curve. We have verified this after the log transformation\n",
    "    2. Standard deviation for all groups must be same. Above output proves that this is true.\n",
    "    3. All samples are drawn independently of each other."
   ]
  },
  {
   "cell_type": "code",
   "execution_count": 93,
   "id": "5a04c567",
   "metadata": {},
   "outputs": [
    {
     "data": {
      "text/plain": [
       "['Noise - Street/Sidewalk',\n",
       " 'Blocked Driveway',\n",
       " 'Illegal Parking',\n",
       " 'Derelict Vehicle',\n",
       " 'Noise - Commercial',\n",
       " 'Noise - House of Worship',\n",
       " 'Posting Advertisement',\n",
       " 'Noise - Vehicle',\n",
       " 'Animal Abuse',\n",
       " 'Vending',\n",
       " 'Traffic',\n",
       " 'Drinking',\n",
       " 'Bike/Roller/Skate Chronic',\n",
       " 'Panhandling',\n",
       " 'Noise - Park',\n",
       " 'Homeless Encampment',\n",
       " 'Urinating in Public',\n",
       " 'Graffiti',\n",
       " 'Disorderly Youth',\n",
       " 'Illegal Fireworks',\n",
       " 'Squeegee']"
      ]
     },
     "execution_count": 93,
     "metadata": {},
     "output_type": "execute_result"
    }
   ],
   "source": [
    "[ complaint for complaint in data.keys() ]"
   ]
  },
  {
   "cell_type": "markdown",
   "id": "d68fd3cc",
   "metadata": {},
   "source": [
    "Now we will futher move on to defining hypothesis and critical values........\n",
    "\n",
    "**Null Hypothesis:** Average response time for all the complaints type is same.\n",
    "\n",
    "**Alternate Hypothesis:** Average response time for all the complaints type is not same and theres is some difference among the groups.\n",
    "\n",
    "- Below We conduct ANOVA test for top 5 type of complaints\n",
    "- For a 95% of confidence interval we choose our alpha as 0.05 for 5%\n",
    "- Alpha(0.05) is the critical p-value, if our calculated p-value is less than alpha, it will give us strong evidence to reject Null Hypothesis.\n",
    "\n",
    "     **if p < alpha(0.05)** : Reject Null Hypothesis, Average response time for all the complaints type is not same.\n",
    "     \n",
    "     **if p > alpha(0.05)** : Fail to reject Null Hypothesis, Average response time for all the complaints type is same."
   ]
  },
  {
   "cell_type": "code",
   "execution_count": 94,
   "id": "168df7fe",
   "metadata": {},
   "outputs": [
    {
     "name": "stdout",
     "output_type": "stream",
     "text": [
      "Statistics=2469.077, p=0.000\n",
      "Different distributions (reject H0)\n"
     ]
    }
   ],
   "source": [
    "# import f_oneway from scipy.stats library\n",
    "from scipy.stats import f_oneway\n",
    "\n",
    "stat, p = f_oneway(data['Noise - Street/Sidewalk'],data['Blocked Driveway'],data['Illegal Parking'],data['Derelict Vehicle'],\n",
    "                   data['Noise - Commercial'])\n",
    "print('Statistics=%.3f, p=%.3f' % (stat, p))\n",
    "# interpret\n",
    "alpha = 0.05\n",
    "if p > alpha:\n",
    "    print('Same distributions (fail to reject H0)')\n",
    "else:\n",
    "    print('Different distributions (reject H0)')"
   ]
  },
  {
   "cell_type": "markdown",
   "id": "a1f202ec",
   "metadata": {},
   "source": [
    "- As our p-value is quite low , hence it is being converted to 0.0\n",
    "- Since our p-value is lowere that our critical p-value, we will conclude that we have enogh evidence to reject pur Null Hypothesis and that\n",
    "\n",
    "     **Average response time for all the complaints type is not same.**"
   ]
  },
  {
   "cell_type": "markdown",
   "id": "1e2934cd",
   "metadata": {},
   "source": [
    "### 2. Are the type of complaint or service requested and location related?"
   ]
  },
  {
   "cell_type": "markdown",
   "id": "bc601f22",
   "metadata": {},
   "source": [
    "- To find the correlation between location and complaint types, we will consider below columns\n",
    "    1. Complaint Type\n",
    "    2. Borough\n",
    "    3. City\n",
    "    4. Longitude\n",
    "    5. Latitude\n",
    "    "
   ]
  },
  {
   "cell_type": "code",
   "execution_count": 95,
   "id": "46044930",
   "metadata": {},
   "outputs": [],
   "source": [
    "sample = customer_df[['Complaint Type','Borough','Longitude','Latitude','City']]"
   ]
  },
  {
   "cell_type": "code",
   "execution_count": 96,
   "id": "72273978",
   "metadata": {},
   "outputs": [],
   "source": [
    "for col in sample.select_dtypes(include='object'):\n",
    "    sample[col] = sample[col].astype('category')\n",
    "    sample[col] = sample[col].cat.codes #not 'category' type anymore."
   ]
  },
  {
   "cell_type": "code",
   "execution_count": 97,
   "id": "7c1cc9d4",
   "metadata": {},
   "outputs": [
    {
     "data": {
      "text/html": [
       "<div>\n",
       "<style scoped>\n",
       "    .dataframe tbody tr th:only-of-type {\n",
       "        vertical-align: middle;\n",
       "    }\n",
       "\n",
       "    .dataframe tbody tr th {\n",
       "        vertical-align: top;\n",
       "    }\n",
       "\n",
       "    .dataframe thead th {\n",
       "        text-align: right;\n",
       "    }\n",
       "</style>\n",
       "<table border=\"1\" class=\"dataframe\">\n",
       "  <thead>\n",
       "    <tr style=\"text-align: right;\">\n",
       "      <th></th>\n",
       "      <th>Complaint Type</th>\n",
       "      <th>Borough</th>\n",
       "      <th>Longitude</th>\n",
       "      <th>Latitude</th>\n",
       "      <th>City</th>\n",
       "    </tr>\n",
       "  </thead>\n",
       "  <tbody>\n",
       "    <tr>\n",
       "      <th>0</th>\n",
       "      <td>13</td>\n",
       "      <td>2</td>\n",
       "      <td>-73.923501</td>\n",
       "      <td>40.865682</td>\n",
       "      <td>33</td>\n",
       "    </tr>\n",
       "    <tr>\n",
       "      <th>1</th>\n",
       "      <td>2</td>\n",
       "      <td>3</td>\n",
       "      <td>-73.915094</td>\n",
       "      <td>40.775945</td>\n",
       "      <td>1</td>\n",
       "    </tr>\n",
       "    <tr>\n",
       "      <th>2</th>\n",
       "      <td>2</td>\n",
       "      <td>0</td>\n",
       "      <td>-73.888525</td>\n",
       "      <td>40.870325</td>\n",
       "      <td>6</td>\n",
       "    </tr>\n",
       "    <tr>\n",
       "      <th>3</th>\n",
       "      <td>9</td>\n",
       "      <td>0</td>\n",
       "      <td>-73.828379</td>\n",
       "      <td>40.835994</td>\n",
       "      <td>6</td>\n",
       "    </tr>\n",
       "    <tr>\n",
       "      <th>4</th>\n",
       "      <td>9</td>\n",
       "      <td>3</td>\n",
       "      <td>-73.874170</td>\n",
       "      <td>40.733060</td>\n",
       "      <td>13</td>\n",
       "    </tr>\n",
       "  </tbody>\n",
       "</table>\n",
       "</div>"
      ],
      "text/plain": [
       "   Complaint Type  Borough  Longitude   Latitude  City\n",
       "0              13        2 -73.923501  40.865682    33\n",
       "1               2        3 -73.915094  40.775945     1\n",
       "2               2        0 -73.888525  40.870325     6\n",
       "3               9        0 -73.828379  40.835994     6\n",
       "4               9        3 -73.874170  40.733060    13"
      ]
     },
     "execution_count": 97,
     "metadata": {},
     "output_type": "execute_result"
    }
   ],
   "source": [
    "sample.head()"
   ]
  },
  {
   "cell_type": "code",
   "execution_count": 98,
   "id": "bbee1770",
   "metadata": {},
   "outputs": [
    {
     "data": {
      "text/html": [
       "<div>\n",
       "<style scoped>\n",
       "    .dataframe tbody tr th:only-of-type {\n",
       "        vertical-align: middle;\n",
       "    }\n",
       "\n",
       "    .dataframe tbody tr th {\n",
       "        vertical-align: top;\n",
       "    }\n",
       "\n",
       "    .dataframe thead th {\n",
       "        text-align: right;\n",
       "    }\n",
       "</style>\n",
       "<table border=\"1\" class=\"dataframe\">\n",
       "  <thead>\n",
       "    <tr style=\"text-align: right;\">\n",
       "      <th></th>\n",
       "      <th>Complaint Type</th>\n",
       "      <th>Borough</th>\n",
       "      <th>Longitude</th>\n",
       "      <th>Latitude</th>\n",
       "      <th>City</th>\n",
       "    </tr>\n",
       "  </thead>\n",
       "  <tbody>\n",
       "    <tr>\n",
       "      <th>Complaint Type</th>\n",
       "      <td>1.000000</td>\n",
       "      <td>-0.066995</td>\n",
       "      <td>-0.182636</td>\n",
       "      <td>0.154112</td>\n",
       "      <td>0.095865</td>\n",
       "    </tr>\n",
       "    <tr>\n",
       "      <th>Borough</th>\n",
       "      <td>-0.066995</td>\n",
       "      <td>1.000000</td>\n",
       "      <td>0.021402</td>\n",
       "      <td>-0.249486</td>\n",
       "      <td>0.717795</td>\n",
       "    </tr>\n",
       "    <tr>\n",
       "      <th>Longitude</th>\n",
       "      <td>-0.182636</td>\n",
       "      <td>0.021402</td>\n",
       "      <td>1.000000</td>\n",
       "      <td>0.364964</td>\n",
       "      <td>-0.124040</td>\n",
       "    </tr>\n",
       "    <tr>\n",
       "      <th>Latitude</th>\n",
       "      <td>0.154112</td>\n",
       "      <td>-0.249486</td>\n",
       "      <td>0.364964</td>\n",
       "      <td>1.000000</td>\n",
       "      <td>-0.000568</td>\n",
       "    </tr>\n",
       "    <tr>\n",
       "      <th>City</th>\n",
       "      <td>0.095865</td>\n",
       "      <td>0.717795</td>\n",
       "      <td>-0.124040</td>\n",
       "      <td>-0.000568</td>\n",
       "      <td>1.000000</td>\n",
       "    </tr>\n",
       "  </tbody>\n",
       "</table>\n",
       "</div>"
      ],
      "text/plain": [
       "                Complaint Type   Borough  Longitude  Latitude      City\n",
       "Complaint Type        1.000000 -0.066995  -0.182636  0.154112  0.095865\n",
       "Borough              -0.066995  1.000000   0.021402 -0.249486  0.717795\n",
       "Longitude            -0.182636  0.021402   1.000000  0.364964 -0.124040\n",
       "Latitude              0.154112 -0.249486   0.364964  1.000000 -0.000568\n",
       "City                  0.095865  0.717795  -0.124040 -0.000568  1.000000"
      ]
     },
     "execution_count": 98,
     "metadata": {},
     "output_type": "execute_result"
    }
   ],
   "source": [
    "sample.corr(method='pearson')"
   ]
  },
  {
   "cell_type": "markdown",
   "id": "98f5625c",
   "metadata": {},
   "source": [
    "- As we can see from above table, **there is no relationship between complaint type and location.**\n",
    "- Which will be the general idea as in our data, most of the Complaint type are of 'Blocked Driveway' and 'Illegal Parking' which is common in all of the Boroughs."
   ]
  },
  {
   "cell_type": "code",
   "execution_count": null,
   "id": "ef1d1052",
   "metadata": {},
   "outputs": [],
   "source": []
  }
 ],
 "metadata": {
  "kernelspec": {
   "display_name": "Python 3 (ipykernel)",
   "language": "python",
   "name": "python3"
  },
  "language_info": {
   "codemirror_mode": {
    "name": "ipython",
    "version": 3
   },
   "file_extension": ".py",
   "mimetype": "text/x-python",
   "name": "python",
   "nbconvert_exporter": "python",
   "pygments_lexer": "ipython3",
   "version": "3.9.7"
  }
 },
 "nbformat": 4,
 "nbformat_minor": 5
}
